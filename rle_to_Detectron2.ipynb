{
  "nbformat": 4,
  "nbformat_minor": 0,
  "metadata": {
    "kernelspec": {
      "name": "python3",
      "display_name": "Python 3"
    },
    "language_info": {
      "codemirror_mode": {
        "name": "ipython",
        "version": 3
      },
      "file_extension": ".py",
      "mimetype": "text/x-python",
      "name": "python",
      "nbconvert_exporter": "python",
      "pygments_lexer": "ipython3",
      "version": "3.6.6"
    },
    "colab": {
      "name": "rle_to_Detectron2.ipynb",
      "provenance": [],
      "collapsed_sections": []
    },
    "accelerator": "GPU"
  },
  "cells": [
    {
      "cell_type": "code",
      "metadata": {
        "id": "HhFCd6AaHvuZ",
        "colab_type": "code",
        "outputId": "05bd3562-6c80-4c5f-8be5-13b1dde63cfb",
        "colab": {
          "base_uri": "https://localhost:8080/",
          "height": 34
        }
      },
      "source": [
        "#rahul pandit\n",
        "from google.colab import drive\n",
        "drive.mount('/content/drive')\n",
        "import os\n",
        "os.getcwd()\n",
        "os.chdir('/content/drive/My Drive/')"
      ],
      "execution_count": 0,
      "outputs": [
        {
          "output_type": "stream",
          "text": [
            "Drive already mounted at /content/drive; to attempt to forcibly remount, call drive.mount(\"/content/drive\", force_remount=True).\n"
          ],
          "name": "stdout"
        }
      ]
    },
    {
      "cell_type": "code",
      "metadata": {
        "_cell_guid": "b1076dfc-b9ad-4769-8c92-a6c4dae69d19",
        "_kg_hide-input": true,
        "_kg_hide-output": true,
        "_uuid": "8f2839f25d086af736a60e9eeb907d3b93b6e0e5",
        "id": "hX_UalvoHi3N",
        "colab_type": "code",
        "cellView": "both",
        "colab": {}
      },
      "source": [
        "import numpy as np \n",
        "import pandas as pd\n",
        "import random as rn\n",
        "import cv2 as cv \n",
        "import os\n",
        "import sys\n",
        "from pathlib import Path\n",
        "import ast \n",
        "from matplotlib import pyplot as plt\n",
        "import plotly.express as px\n",
        "import plotly.graph_objects as go"
      ],
      "execution_count": 0,
      "outputs": []
    },
    {
      "cell_type": "markdown",
      "metadata": {
        "id": "Emm7xJ3PHi40",
        "colab_type": "text"
      },
      "source": [
        "<a id=\"4\"></a> <br>\n",
        "# Visualising the Masks\n",
        "Let's take a look at some examples of each class, and of some of the images containing multiple classes."
      ]
    },
    {
      "cell_type": "code",
      "metadata": {
        "id": "e4dRG_eFhc0A",
        "colab_type": "code",
        "colab": {}
      },
      "source": [
        "\"\"\" use a consistent color palette per label throughout the notebook \"\"\"\n",
        "import colorlover as cl\n",
        "\n",
        "# see: https://plot.ly/ipython-notebooks/color-scales/\n",
        "colors = cl.scales['4']['qual']['Set3']\n",
        "labels = np.array(range(1,5))\n",
        "palette = dict(zip(labels, np.array(cl.to_numeric(colors))))"
      ],
      "execution_count": 0,
      "outputs": []
    },
    {
      "cell_type": "code",
      "metadata": {
        "id": "XXQO3Dj0hcom",
        "colab_type": "code",
        "colab": {}
      },
      "source": [
        "def rle_to_mask(lre, shape=(1600,256)):\n",
        "    runs = np.asarray([int(run) for run in lre.split(' ')])\n",
        "    runs[1::2] += runs[0::2]\n",
        "    runs -= 1\n",
        "    run_starts, run_ends = runs[0::2], runs[1::2]\n",
        "    h, w = shape\n",
        "    mask = np.zeros(h*w, dtype=np.uint8)\n",
        "    for start, end in zip(run_starts, run_ends):\n",
        "        mask[start:end] = 1\n",
        "    return mask.reshape(shape)"
      ],
      "execution_count": 0,
      "outputs": []
    },
    {
      "cell_type": "code",
      "metadata": {
        "id": "QfOsevCLHi41",
        "colab_type": "code",
        "colab": {}
      },
      "source": [
        "def build_mask(encodings, labels):\n",
        "    mask = np.zeros((256,1600,4), dtype=np.uint8)\n",
        "    for rle, label in zip(encodings, labels):\n",
        "        index = label - 1\n",
        "        mask[:,:,index] = rle_to_mask(rle).T    \n",
        "    return mask"
      ],
      "execution_count": 0,
      "outputs": []
    },
    {
      "cell_type": "code",
      "metadata": {
        "id": "4BzYHCzhxzKi",
        "colab_type": "code",
        "colab": {}
      },
      "source": [
        "def mask_to_contours1(image, mask_layer, color):\n",
        "    contours, hierarchy = cv.findContours(mask_layer, cv.RETR_TREE, cv.CHAIN_APPROX_SIMPLE)\n",
        "    return contours"
      ],
      "execution_count": 0,
      "outputs": []
    },
    {
      "cell_type": "code",
      "metadata": {
        "id": "m_5GmT5IUUIL",
        "colab_type": "code",
        "colab": {}
      },
      "source": [
        "def get_contour_train(file_name,mask):\n",
        "    contours=[]\n",
        "    image = cv.imread(\"train/{}\".format(file_name))\n",
        "    for index in range(mask.shape[-1]):\n",
        "        data_dict={}\n",
        "        data_dict['Image_id']=[]\n",
        "        data_dict['Class_id']=[]\n",
        "        data_dict['contour']=[]\n",
        "      \n",
        "        label = index + 1\n",
        "        contour=mask_to_contours1(image, mask[:,:,index], color=palette[label])\n",
        "        if len(contour)>0:\n",
        "\n",
        "            data_dict['Image_id'].append(file_name)\n",
        "            data_dict['Class_id'].append(index)\n",
        "            data_dict['contour'].append(contour)\n",
        "            contours.append(data_dict)\n",
        "    return contours\n"
      ],
      "execution_count": 0,
      "outputs": []
    },
    {
      "cell_type": "code",
      "metadata": {
        "id": "cNxjYSNZeKra",
        "colab_type": "code",
        "colab": {}
      },
      "source": [
        "def get_contour_val(file_name,mask):\n",
        "    contours=[]\n",
        "    image = cv.imread(\"val/{}\".format(file_name))\n",
        "    for index in range(mask.shape[-1]):\n",
        "        data_dict={}\n",
        "        data_dict['Image_id']=[]\n",
        "        data_dict['Class_id']=[]\n",
        "        data_dict['contour']=[]\n",
        "      \n",
        "        label = index + 1\n",
        "        contour=mask_to_contours1(image, mask[:,:,index], color=palette[label])\n",
        "        if len(contour)>0:\n",
        "\n",
        "            data_dict['Image_id'].append(file_name)\n",
        "            data_dict['Class_id'].append(index)\n",
        "            data_dict['contour'].append(contour)\n",
        "            contours.append(data_dict)\n",
        "    return contours\n"
      ],
      "execution_count": 0,
      "outputs": []
    },
    {
      "cell_type": "markdown",
      "metadata": {
        "id": "EHOfMl1a-Kpu",
        "colab_type": "text"
      },
      "source": [
        "#Algo for Detectron-2\n"
      ]
    },
    {
      "cell_type": "code",
      "metadata": {
        "id": "azjCv_YK-J9u",
        "colab_type": "code",
        "colab": {}
      },
      "source": [
        "df=pd.read_csv('steel-defect/train.csv')\n",
        "df['EncodedPixels']=df['EncodedPixels'].apply(lambda x:ast.literal_eval(x))\n",
        "df['ClassId']=df['ClassId'].apply(lambda x:ast.literal_eval(x))\n",
        "df=df.iloc[1:5,:]\n",
        "df.info()"
      ],
      "execution_count": 0,
      "outputs": []
    },
    {
      "cell_type": "code",
      "metadata": {
        "id": "5x8ODXvPFQcj",
        "colab_type": "code",
        "colab": {}
      },
      "source": [
        "#!cp steel-defect/train.csv -r steel-defect/train/train.csv"
      ],
      "execution_count": 0,
      "outputs": []
    },
    {
      "cell_type": "code",
      "metadata": {
        "id": "pYuZSvRa-hf1",
        "colab_type": "code",
        "colab": {}
      },
      "source": [
        "import cv2\n",
        "def get_steel_dict(img_dir):\n",
        "  df=pd.read_csv(img_dir+'/train.csv')\n",
        "  df['EncodedPixels']=df['EncodedPixels'].apply(lambda x:ast.literal_eval(x))\n",
        "  df['ClassId']=df['ClassId'].apply(lambda x:ast.literal_eval(x))\n",
        "  df=df.iloc[0:10,:]#remove slicing for get all data in dataframe\n",
        "  # iterating over rows using iterrows() function  \n",
        "  dataset_dicts = []\n",
        "\n",
        "  for index, row in df.iterrows(): \n",
        "        record = {}\n",
        "        filename = os.path.join(img_dir,row['ImageId'])\n",
        "        height, width = cv2.imread(filename).shape[:2]\n",
        "        record[\"file_name\"] = filename\n",
        "        record[\"image_id\"] = index\n",
        "        record[\"height\"] = height\n",
        "        record[\"width\"] = width\n",
        "        #print(record)\n",
        "        mask = build_mask(encodings=row['EncodedPixels'], labels=row['ClassId'])\n",
        "        data_list=get_contour_train(file_name=row['ImageId'], mask=mask)#get conour image_id,class_id for val change->get_contour_train to get_contour_val\n",
        "        \n",
        "        #show Data\n",
        "        objs = []\n",
        "        for data in data_list:\n",
        "          for array in data['contour'][0]:\n",
        "            array=array.reshape((array.shape[0],array.shape[-1]))\n",
        "            #print(\"Image id=\",data['Image_id'][0])\n",
        "            #print(\"Class Id=\",data['Class_id'][0])\n",
        "            px=[i[0] for i in array]\n",
        "            py=[j[1] for j in array]\n",
        "\n",
        "            poly = [(x + 0.5, y + 0.5) for x, y in zip(px, py)]\n",
        "            poly = [p for x in poly for p in x]\n",
        "\n",
        "            obj = {\n",
        "                \"bbox\": [np.min(px), np.min(py), np.max(px), np.max(py)],\n",
        "                #\"bbox_mode\": BoxMode.XYXY_ABS,\n",
        "                \"segmentation\": [poly],\n",
        "                \"category_id\": data['Class_id'][0],\n",
        "                \"iscrowd\": 0\n",
        "            }\n",
        "\n",
        "            objs.append(obj)\n",
        "        record[\"annotations\"] = objs\n",
        "        dataset_dicts.append(record)    \n",
        "  return dataset_dicts"
      ],
      "execution_count": 0,
      "outputs": []
    },
    {
      "cell_type": "code",
      "metadata": {
        "id": "9PJ_mplCCX7A",
        "colab_type": "code",
        "colab": {}
      },
      "source": [
        "dataset_dicts=get_steel_dict('steel-defect/train')"
      ],
      "execution_count": 0,
      "outputs": []
    },
    {
      "cell_type": "code",
      "metadata": {
        "id": "kpRVr461Cdti",
        "colab_type": "code",
        "colab": {}
      },
      "source": [
        "dataset_dicts"
      ],
      "execution_count": 0,
      "outputs": []
    },
    {
      "cell_type": "code",
      "metadata": {
        "id": "kmfMcbSXPVvz",
        "colab_type": "code",
        "colab": {}
      },
      "source": [
        ""
      ],
      "execution_count": 0,
      "outputs": []
    }
  ]
}